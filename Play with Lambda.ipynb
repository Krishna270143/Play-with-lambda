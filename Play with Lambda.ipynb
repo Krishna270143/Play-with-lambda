{
 "cells": [
  {
   "cell_type": "code",
   "execution_count": null,
   "id": "e6ad561b",
   "metadata": {},
   "outputs": [],
   "source": [
    "Play with lambda"
   ]
  },
  {
   "cell_type": "code",
   "execution_count": 1,
   "id": "088ec192",
   "metadata": {},
   "outputs": [
    {
     "name": "stdout",
     "output_type": "stream",
     "text": [
      "35\n"
     ]
    }
   ],
   "source": [
    "r = lambda a : a + 25                #The lambda keyword used to define an anonymous function\n",
    "a = 10                                # assigning 'a' value as 10 \n",
    "print(r(a))\n",
    "r = lambda x, y : x * y             # x and y are the parameters that we pass to the lambda fuction"
   ]
  },
  {
   "cell_type": "markdown",
   "id": "e8b9168b",
   "metadata": {},
   "source": [
    "# Test cases:"
   ]
  },
  {
   "cell_type": "code",
   "execution_count": 2,
   "id": "2b9a6117",
   "metadata": {},
   "outputs": [
    {
     "name": "stdout",
     "output_type": "stream",
     "text": [
      "6\n"
     ]
    }
   ],
   "source": [
    "r = lambda a : a - 20               #The lambda keyword used to define an anonymous function\n",
    "a = 26\n",
    "print(r(a))\n",
    "r = lambda x, y : x * y             # x and y are the parameters that we pass to the lambda fuction"
   ]
  },
  {
   "cell_type": "code",
   "execution_count": null,
   "id": "1261ab3a",
   "metadata": {},
   "outputs": [],
   "source": []
  },
  {
   "cell_type": "code",
   "execution_count": 3,
   "id": "4ec1d792",
   "metadata": {},
   "outputs": [
    {
     "name": "stdout",
     "output_type": "stream",
     "text": [
      "15\n"
     ]
    }
   ],
   "source": [
    "r = lambda a : a + 25                #The lambda keyword used to define an anonymous function\n",
    "a = -10\n",
    "print(r(a))\n",
    "r = lambda x, y : x * y             # x and y are the parameters that we pass to the lambda fuction"
   ]
  },
  {
   "cell_type": "code",
   "execution_count": null,
   "id": "958e742c",
   "metadata": {},
   "outputs": [],
   "source": []
  },
  {
   "cell_type": "code",
   "execution_count": 4,
   "id": "43e5da19",
   "metadata": {},
   "outputs": [
    {
     "name": "stdout",
     "output_type": "stream",
     "text": [
      "-25\n"
     ]
    }
   ],
   "source": [
    "r = lambda a : a -10               #The lambda keyword used to define an anonymous function\n",
    "a = -15\n",
    "print(r(a))\n",
    "r = lambda x, y : x * y             # x and y are the parameters that we pass to the lambda fuction"
   ]
  },
  {
   "cell_type": "code",
   "execution_count": null,
   "id": "ae2c4cc6",
   "metadata": {},
   "outputs": [],
   "source": []
  }
 ],
 "metadata": {
  "kernelspec": {
   "display_name": "Python 3 (ipykernel)",
   "language": "python",
   "name": "python3"
  },
  "language_info": {
   "codemirror_mode": {
    "name": "ipython",
    "version": 3
   },
   "file_extension": ".py",
   "mimetype": "text/x-python",
   "name": "python",
   "nbconvert_exporter": "python",
   "pygments_lexer": "ipython3",
   "version": "3.10.0"
  }
 },
 "nbformat": 4,
 "nbformat_minor": 5
}
